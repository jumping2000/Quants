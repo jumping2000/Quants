{
  "cells": [
    {
      "cell_type": "markdown",
      "source": [
        "## Analisi di convessità e duration delle obbligazioni\n",
        "Il notebook, dato l'ISIN di un bond, calcola parametri come yield, duration e convexity recuperando alcune info di base dal sito simpletoolsforinvestors.eu\n",
        "\n",
        "*  https://ba-odegaard.no/gcc_prog/recipes/recipes.pdf\n",
        "\n",
        "\n",
        "*  https://github.com/jeffrey-liang/Financial-Numerical-Recipes-in-Python/tree/master\n",
        "\n",
        "*  https://medium.com/@add.mailme/bond-maths-and-its-implementation-in-python-d952dd585f5d\n",
        "\n",
        "*  https://github.com/andreranza/pca-yield-curve-modelling\n",
        "\n",
        "*  https://github.com/shatteringlass/bitscraper/\n",
        "\n",
        "*  https://bond-pricing.readthedocs.io/en/latest/\n",
        "\n",
        "<p>\n",
        "<a href=\"https://colab.research.google.com/github/jumping2000/Quants/blob/master/portfolio_anlysis/Bond_pricing.ipynb\"> <img align=\"left\" src=\"https://colab.research.google.com/assets/colab-badge.svg\" alt=\"Open in Colab\" title=\"Open in Google Colaboratory\"></a><p><a href=\"https://github.com/jumping2000/Quants/blob/main/portfolio_anlysis/Bond_pricing.ipynb\"> <img align=\"left\" src=\"https://img.shields.io/badge/Github-Download-blue.svg\" alt=\"Download\" title=\"Download Notebook\"></a>\n",
        "</p>"
      ],
      "metadata": {
        "id": "mAaYXevSVIVl"
      }
    },
    {
      "cell_type": "markdown",
      "source": [
        "# Scarico Dati obbligazioni"
      ],
      "metadata": {
        "id": "pJLHazzTm9Tb"
      }
    },
    {
      "cell_type": "code",
      "source": [
        "import requests\n",
        "from bs4 import BeautifulSoup\n",
        "from datetime import datetime\n",
        "from requests.exceptions import HTTPError, Timeout, RequestException\n",
        "import sys"
      ],
      "metadata": {
        "id": "dcHF2Y-m7azQ"
      },
      "execution_count": null,
      "outputs": []
    },
    {
      "cell_type": "code",
      "source": [
        "########################################\n",
        "market =  'francia' #\n",
        "isin =  'FR0014001NN8'\n",
        "########################################\n",
        "url_base = 'https://www.simpletoolsforinvestors.eu/'\n",
        "url = f'https://www.simpletoolsforinvestors.eu/monitor_info.php?monitor={market}&yieldtype=G&timescale=DUR'"
      ],
      "metadata": {
        "id": "4X1QMitu7yCk"
      },
      "execution_count": null,
      "outputs": []
    },
    {
      "cell_type": "code",
      "source": [
        "class BondInfo:\n",
        "    def __init__(self, **kwargs):\n",
        "        for key, value in kwargs.items():\n",
        "            setattr(self, key.replace(\" \", \"_\").lower(), value)\n",
        "\n",
        "def fetch_webpage(url, timeout=10):\n",
        "    try:\n",
        "        # Send a GET request to the specified URL with a timeout\n",
        "        response = requests.get(url, timeout=timeout)\n",
        "        # Check if the request was successful\n",
        "        response.raise_for_status()  # Raises HTTPError for bad responses (4xx and 5xx)\n",
        "        # Parse the content with BeautifulSoup\n",
        "        soup = BeautifulSoup(response.content, 'html.parser')\n",
        "        return soup\n",
        "    except HTTPError as http_err:\n",
        "        print(f\"HTTP error occurred: {http_err}\")  # Specific HTTP errors\n",
        "    except Timeout:\n",
        "        print(\"The request timed out\")\n",
        "    except RequestException as err:\n",
        "        print(f\"An error occurred: {err}\")  # Catch-all for requests exceptions\n",
        "    except Exception as e:\n",
        "        print(f\"An unexpected error occurred: {e}\", file=sys.stderr)\n",
        "    return None\n",
        "\n",
        "def extract_data(soup):\n",
        "    if soup is None:\n",
        "        print(\"No data to extract because soup is None\")\n",
        "        return\n",
        "    try:\n",
        "        # Iterate over each row in the tbody\n",
        "        for row in soup.find_all('tr')[1:]:  # Skipping the header row\n",
        "            # Find the first <td> tag (Codice ISIN)\n",
        "            codice_isin = row.find('td') #.text.strip()\n",
        "            codice_isin_bond = codice_isin.text.strip()\n",
        "            if codice_isin_bond == isin:\n",
        "                bond_url = codice_isin.find_next_sibling('td').find('a')['href']\n",
        "                bond_url = url_base + bond_url\n",
        "                soup_bond = fetch_webpage(bond_url)\n",
        "                table_bond = soup_bond.find_all('table', class_='table-sm table-bordered table-striped')\n",
        "                tbody = table_bond[0].find('tbody')\n",
        "                rows = tbody.find_all('tr')\n",
        "                fields = [None] * len(labels)  # Initialize a list to store the extracted values\n",
        "                for row in rows:\n",
        "                    label = row.find_all('td')[0].text.strip()\n",
        "                    if label in labels:\n",
        "                        fields[labels.index(label)] = row.find_all('td')[1].text.strip()\n",
        "                tbody = table_bond[1].find('tbody')\n",
        "                rows = tbody.find_all('tr')\n",
        "                for row in rows:\n",
        "                    label = row.find_all('td')[0].text.strip()\n",
        "                    if label in labels:\n",
        "                        fields[labels.index(label)] = row.find_all('td')[1].text.strip()\n",
        "                #divisa, lotto, d_emissione, p_emissione, d_rimborso, p_rimborso, tasso, periodicità = fields[2:10]\n",
        "                dictionary = dict(zip(labels, fields))\n",
        "                dictionary = {'ISIN': codice_isin_bond, **dictionary}\n",
        "                return dictionary\n",
        "    except AttributeError as e:\n",
        "        print(f\"Attribute error while parsing: {e}\", file=sys.stderr)\n",
        "    except Exception as e:\n",
        "        print(f\"An unexpected error occurred while extracting data: {e}\", file=sys.stderr)\n",
        "\n",
        "# Etichette da cercare\n",
        "labels = [\n",
        "    \"Data di regolamento\",\n",
        "    \"Prezzo di regolamento\",\n",
        "    \"Divisa di emissione\",\n",
        "    \"Lotto Minimo\",\n",
        "    \"Data emissione\",\n",
        "    \"Prezzo emissione\",\n",
        "    \"Data rimborso\",\n",
        "    \"Prezzo rimborso\",\n",
        "    \"Tasso cedolare\",\n",
        "    \"Periodicità cedola\",\n",
        "    \"Tassazione applicata\"\n",
        "]\n",
        "\n",
        "dizionario = None\n",
        "soup = fetch_webpage(url)\n",
        "table_bonds = soup.find('table', id='YieldTable')\n",
        "dizionario = extract_data(table_bonds)\n",
        "\n",
        "# Print the key-value pairs in one print statement\n",
        "#print(', '.join([f\"{key}: {value}\\n\" for key, value in dizionario.items()]))\n",
        "print('################################################################################')\n",
        "print(''.join([f\"{key}: {value}\\n\" for key, value in dizionario.items()]))\n",
        "print('################################################################################')\n",
        "# Create an instance of BondInfo\n",
        "bond = BondInfo(**dizionario)"
      ],
      "metadata": {
        "colab": {
          "base_uri": "https://localhost:8080/"
        },
        "id": "4yiH1QcVk6iQ",
        "outputId": "d5469028-09bf-4f33-fbf5-443fd4a01d19"
      },
      "execution_count": null,
      "outputs": [
        {
          "output_type": "stream",
          "name": "stdout",
          "text": [
            "################################################################################\n",
            "ISIN: FR0014001NN8\n",
            "Data di regolamento: 11/10/2024\n",
            "Prezzo di regolamento: 36,22\n",
            "Divisa di emissione: EUR\n",
            "Lotto Minimo: 1.000\n",
            "Data emissione: 25/05/2020\n",
            "Prezzo emissione: 95,895\n",
            "Data rimborso: 25/05/2072\n",
            "Prezzo rimborso: 100,000\n",
            "Tasso cedolare: 0,500%\n",
            "Periodicità cedola: Annuale\n",
            "Tassazione applicata: 12,50%\n",
            "\n",
            "################################################################################\n"
          ]
        }
      ]
    },
    {
      "cell_type": "code",
      "source": [
        "from string import printable\n",
        "# Accessing properties\n",
        "date_format = \"%d/%m/%Y\"\n",
        "# Convert strings to datetime objects\n",
        "d1 = datetime.strptime(bond.data_di_regolamento, date_format)\n",
        "d2 = datetime.strptime(bond.data_rimborso, date_format)\n",
        "# Calculate the difference in days\n",
        "delta_days = (d2 - d1).days\n",
        "# Convert the difference to years, approximating to the first decimal\n",
        "delta_years = round(delta_days / 365.25, 1)  # 365.25 accounts for leap years\n",
        "# Parametri dell'obbligazione\n",
        "C = float(bond.tasso_cedolare.replace('%', '').replace(',', '.'))    # Cedola annuale\n",
        "M = float(bond.prezzo_rimborso.replace(',', '.'))  # Valore nominale di rimborso\n",
        "T = round(delta_years)    # Maturità / Anni fino alla scadenza\n",
        "P_current = float(bond.prezzo_di_regolamento.replace(',', '.')) #37.61 prezzo\n",
        "tax = float(bond.tassazione_applicata.replace('%', '').replace(',', '.'))/100\n",
        "print('\\n################################ FROM SIMPLETOOLS #################################')\n",
        "print(f'ISIN:{bond.isin} Maturità in anni:{delta_years} Cedola:{C} Prezzo rimborso:{M} Quotazione:{P_current} Tassazione:{tax}' )"
      ],
      "metadata": {
        "colab": {
          "base_uri": "https://localhost:8080/"
        },
        "id": "9vQ3uhsV8YxQ",
        "outputId": "17154879-aadf-48a0-eaab-5921dc0514aa"
      },
      "execution_count": null,
      "outputs": [
        {
          "output_type": "stream",
          "name": "stdout",
          "text": [
            "\n",
            "################################ FROM SIMPLETOOLS #################################\n",
            "ISIN:FR0014001NN8 Maturità in anni:47.6 Cedola:0.5 Prezzo rimborso:100.0 Quotazione:36.22 Tassazione:0.125\n"
          ]
        }
      ]
    },
    {
      "cell_type": "markdown",
      "metadata": {
        "id": "UlrIWz1PGqpJ"
      },
      "source": [
        "## Chapter 4: Bond pricing with a flat term structure"
      ]
    },
    {
      "cell_type": "markdown",
      "metadata": {
        "id": "tEPkMx2UGqpO"
      },
      "source": [
        "In this section we use the present value framework of the previous chapter to price bonds and other fixed income securities. What distinguishes bonds is that the future payments are set when the security is issued. The simplest, and most typical bond, is a fixed interest, constant maturity bond with no default risk. There is however a large number of alternative contractual features of bonds. The bond could for example ba an annuity bond, paying a fixed amount each period. For such a bond the principal amount outstanding is paid gradually during the life of the bond. The interest rate the bond pays need not be fixed, it could be a floating rate, the interest rate paid could be a function of some market rate. Many bonds are issued by corporations, and in such cases there is a risk that the company issued the bond defaults, and the bond does not pay the complete promised amount. Another thing that makes bond pricing difficult in practice, is that interest rates tend to change over time.\n",
        "\n",
        "\n",
        "We start by assuming that all the promised payments are certain. Then the bond current price $B_0$ is found as the present value of these payments. The first step of pricing is to use the terms of the bond to find the promised payments. We start by considering a fixed  interest bond with no default risk. Such bonds are typically bonds issued by governments. The bond is a promise to pay a face value $F$ at the maturity date $T$ periods from now. Each period the bond pays a fixed percentage amount of the face value as coupon C. The cash flows from the bond thus look as follows.\n",
        "\n",
        "In general a bond price is found as the present value\n",
        "\n",
        "$$B_0=d_1C_1+d_2C_2+\\cdot\\cdot\\cdot+d_TC_T=\\sum_{t=1}^{T}d_tC_t$$\n",
        "\n",
        "where $d_t$ is the discount factor, or the time 0 price of a payment of 1 at time $t$. To fully specify the\n",
        "problem it is necessary to find all discount factors $d_t$. In this chapter we will work with a specially simple\n",
        "specifiction of the term structure, namely that it is flat, and specified by the interest rate $r$."
      ]
    },
    {
      "cell_type": "markdown",
      "metadata": {
        "id": "aoIktDRiGqpP"
      },
      "source": [
        "### 4.1 Flat term structure with discrete, annual compounding\n",
        "This is the simplest possible specification of a term structure,\n",
        "\n",
        "$$d_t = \\Big(\\frac{1}{1+r}\\Big)^t=\\frac{1}{(1+r)^t}$$"
      ]
    },
    {
      "cell_type": "markdown",
      "metadata": {
        "id": "mM8-E-E3GqpQ"
      },
      "source": [
        "### 4.1.1 Bond Price\n",
        "The current bond price $(B_0)$ is the present value of the cash flows from the bond\n",
        "\n",
        "$$B_0=\\sum_{t=1}^{T}\\Bigg(\\frac{1}{(1+r)^t}\\Bigg)C_t=\\sum_{t=1}^{T}\\frac{C_t}{(1+r)^t}$$\n",
        "\n",
        "If we continue with the example of a standard fixed interest bond, where $C_t = C$ when $t < T$ and\n",
        "$CT = C + F$,"
      ]
    },
    {
      "cell_type": "markdown",
      "metadata": {
        "id": "203APBCWGqpQ"
      },
      "source": [
        "#### Example\n",
        "A 3 year bond with a face value of $100 makes annual coupon payments of 10%. The current interest rate\n",
        "(with annual compounding) is 9%.\n",
        "\n",
        "1. Determine the current bond price.\n",
        "\n",
        "The current bond price: $B_0=\\frac{10}{(1+0.09)^1}+\\frac{10}{(1+0.09)^2}+\\frac{110}{(1+0.09)^3}=102.531$"
      ]
    },
    {
      "cell_type": "markdown",
      "metadata": {
        "id": "FkAQPXt1GqpV"
      },
      "source": [
        "### 4.1.1 Yield to maturity\n",
        "Since bonds are issued in terms of interest rate, it is also useful to find an interest rate number that\n",
        "summarizes the terms of the bond. The obvious way of doing that is asking the question: What is the\n",
        "internal rate of return on the investment of buying the bond now and keeping the bond to maturity?\n",
        "The answer to that question is the yield to maturity of a bond. The yield to maturity is the interest\n",
        "rate that makes the present value of the future coupon payments equal to the current bond price, that\n",
        "is, for a known price $B_0$, the yield is the solution y to the equation\n",
        "\n",
        "$$B_0\\sum_{t=1}^{T}\\frac{C_t}{(1+y)^t}$$"
      ]
    },
    {
      "cell_type": "markdown",
      "metadata": {
        "id": "W9EVwSQyGqpW"
      },
      "source": [
        "This calculation therefore has the same qualifications as discussed earlier calculating IRR, it supposes\n",
        "reinvestment of coupon at the bond yield (the IRR).\n",
        "\n",
        "There is much less likelihood we’ll have technical problems with multiple solutions when doing this yield\n",
        "estimation for bonds, since the structure of cash flows is such that there exist only one solution to the\n",
        "equation. The algorithm for finding a bonds yield to maturity shown in **Code 4.2** is thus simple\n",
        "bisection. We know that the bond yield is above zero and set zero as a lower bound on the bond yield.\n",
        "We then find an upper bound on the yield by increasing the interest rate until the bond price with this\n",
        "interest rate is negative. We then bisect the interval between the upper and lower until we are “close\n",
        "enough.” **Code 4.2** implements this idea."
      ]
    },
    {
      "cell_type": "markdown",
      "metadata": {
        "id": "wT9y2v2iGqpY"
      },
      "source": [
        "### 4.1.3 Duration\n",
        "\n",
        "When holding a bond one would like to know how sensitive the value of the bond is to changes in\n",
        "economic environment. The most relevent piece of the economic environment is the current interest\n",
        "rate. An important component of such calculation is the duration of a bond. The duration of a bond\n",
        "should be interpreted as the weighted average maturity of the bond, and is calculated as\n",
        "\n",
        "$$Duration = \\frac{\\sum_{t}t\\frac{C_t}{(1+r)^t}}{Bond\\ Price'}$$\n",
        "\n",
        "where $C_t$ is the cash flow in period $t$, and $r$ the interest rate. Using the bond price calculated in equation 4.1 we calculate duration as\n",
        "\n",
        "$$D=\\frac{\\sum_{t}\\frac{tC_t}{(1+r)^t}}{\\sum_{t}\\frac{C_t}{((1+r)^t}}$$"
      ]
    },
    {
      "cell_type": "markdown",
      "metadata": {
        "id": "bdLBHQrBGqpZ"
      },
      "source": [
        "An alternative approach to calculating duration is calculate the yield to maturity $y$ for the bond, and\n",
        "use that in estimating the bond price. This is called *Macaulay Duration*. First one calculates $y$, the\n",
        "yield to maturity, from\n",
        "\n",
        "$$Bond\\ price = \\sum_{t=1}^{T}\\frac{C_t}{(1+y)^t}$$\n",
        "\n",
        "and then use this y in the duration calculation:\n",
        "\n",
        "$$ Macaulay\\ duration=\\frac{\\sum_{t}\\frac{tC_t}{(1+r)^t}}{\\sum_{t}\\frac{C_t}{((1+r)^t}}$$\n",
        "\n",
        "Note though, that in the present case, with a flat term structure, these should produce the same number.\n",
        "If the bond is priced correctly, the yield to maturity must equal the current interest rate. If $r = y$ the\n",
        "two calculations in equations (4.4) and (4.5) obviously produces the same number."
      ]
    },
    {
      "cell_type": "markdown",
      "metadata": {
        "id": "u9SrXWKpGqpZ"
      },
      "source": [
        "#### Example\n",
        "A 3 year bond with a face value of $100 makes annual coupon payments of 10%. The current interest rate\n",
        "(with annual compounding) is 9%."
      ]
    },
    {
      "cell_type": "markdown",
      "metadata": {
        "id": "iz5mqArYGqpa"
      },
      "source": [
        "1. Determine the current bond price.\n",
        "2. Calculate the duration using the current interest rate.\n",
        "3. Calculate the duration using the MaCaulay definition.\n",
        "\n",
        "Need to calculate the following:\n",
        "\n",
        "The current bond price: $B_0=\\frac{10}{(1+0.09)^1}+\\frac{10}{(1+0.09)^2}+\\frac{110}{(1+0.09)^3}=102.531$\n",
        "\n",
        "The bond's duration: $D=\\frac{1}{102.531}\\Big(\\frac{1.10}{1.09}+\\frac{2.10}{1.09^2}+\\frac{3.110}{1.09^3}\\Big)=2.74$"
      ]
    },
    {
      "cell_type": "markdown",
      "metadata": {
        "id": "nYg0M0H1Gqpb"
      },
      "source": [
        "### 4.1.4 Measuring bond sensitivity to interest rate changes\n",
        "\n",
        "Now, the reason for why we say that we can measure the sensitivity of a bond price using duration. To\n",
        "a first approximation, $\\Delta B_0$, the change in the bond price for a small change in the interest rate $\\Delta r$, can\n",
        "be calculated\n",
        "\n",
        "$$\\frac{\\Delta B_0}{B_0} \\approx - \\frac{D}{1+r} \\Delta r$$\n",
        "\n",
        "where $D$ is the bond’s duration. For simplicity one often calculates the term in front of the $\\Delta y$ in the above, $\\frac{D}{1+y}$ directly and terms it the bond’s *modified duration*.\n",
        "\n",
        "$$Modified\\ Duration=D^*=\\frac{D}{1+r}$$\n",
        "\n",
        "The sensitivity calculation is then\n",
        "$$D^*=\\frac{D}{1+y}$$"
      ]
    },
    {
      "cell_type": "markdown",
      "metadata": {
        "id": "GyhCSrpXGqpc"
      },
      "source": [
        "The modified duration measures the angle of the tangent at the current bond yield. Approximating\n",
        "the change in bond price with duration is thus only a first order approximation. To improve on this\n",
        "approximation we also need to account for the curvature in the relationship between bond price and\n",
        "interest rate. To quantify this curvature we calculate the *convexity* of a bond.\n",
        "\n",
        "$$Convexity=Cx=\\frac{1}{B_0}\\frac{1}{((1+r)^2}\\sum_{t=1}^{T}(t+t^2)\\frac{C_t}{(1+r)^t}$$\n",
        "\n"
      ]
    },
    {
      "cell_type": "markdown",
      "metadata": {
        "id": "Z_pTTpnlGqpc"
      },
      "source": [
        "This calculation is implemented in **Code 4.6**. To improve on the estimate of how the bond price change when the interest rates changes you will then calculate\n",
        "\n",
        "$$\\frac{\\Delta B_0}{B_0}\\approx-D^*\\Delta y + \\frac{1}{2}Cx(\\Delta y)^2$$"
      ]
    },
    {
      "cell_type": "markdown",
      "metadata": {
        "id": "GVdkCI7-Gqpe"
      },
      "source": [
        "### 4.2 Continously compounded interest\n",
        "\n",
        "Some important differences is worth pointing out. When using continously compounded interest, one\n",
        "does not need the concept of *modified duration*. In the continously compounded case one uses the\n",
        "calculated duration directly to approximate bond changes, as seen in the formulas describing the approximation of bond price changes. Note also the difference in the *convexity* calculation, one does not divide by $(1 + y)^2$ in the continously compounded formula, as was done in the discrete case."
      ]
    },
    {
      "cell_type": "markdown",
      "metadata": {
        "id": "MjxhB-gtGqpg"
      },
      "source": [
        "The term structure is flat, and compounding is continous. Consider two definitions of duration, the “usual” definition $D = \\frac{1}{B_0}\\sum_{i}t_iC_{t_i}e^{-rt}$ and the Macaulay defintion: $D=\\frac{1}{b_0}\\sum_{i}t_iC_{t_i}e^{-yt_i}$, where $B_0$ is the current bond price, $C_{t_i}$ is the coupon payment at date $t_i$, $r$ is the current interest rate and $y$ is the bond’s yield to maturity."
      ]
    },
    {
      "cell_type": "code",
      "source": [
        "import numpy as np\n",
        "import matplotlib.pyplot as plt\n",
        "\n",
        "# Parametri dell'obbligazione\n",
        "# C = 0.5    # Cedola annuale\n",
        "# M = 100  # Valore nominale di rimborso\n",
        "# T = 47   # Maturità / Anni fino alla scadenza\n",
        "# P_current = 37.5 #37.61 prezzo\n",
        "#y_current = 0.031  # Rendimento a scadenza (YTM)\n",
        "\n",
        "# Calcolo del prezzo attuale dell'obbligazione\n",
        "def bond_price(C, M, T, y):\n",
        "    \"\"\"\n",
        "    Calcola il prezzo dell'obbligazione dato il rendimento a scadenza (YTM).\n",
        "    C : Cedola annuale\n",
        "    M : Valore nominale di rimborso\n",
        "    T : Maturità in anni\n",
        "    y : Rendimento a scadenza (YTM)\n",
        "    \"\"\"\n",
        "    price = sum([C / (1 + y)**t for t in range(1, T + 1)]) + M / (1 + y)**T\n",
        "    return price\n",
        "\n",
        "def bond_price_derivative(C, M, T, y):\n",
        "    \"\"\"\n",
        "    Calcola la derivata del prezzo dell'obbligazione rispetto al rendimento a scadenza (YTM).\n",
        "    \"\"\"\n",
        "    derivative = sum([-t * C / (1 + y)**(t + 1) for t in range(1, T + 1)]) - T * M / (1 + y)**(T + 1)\n",
        "    return derivative\n",
        "\n",
        "def bond_ytm(C, M, T, current_price, initial_guess=0.05, tol=1e-6, max_iter=100):\n",
        "    \"\"\"\n",
        "    Calcola il rendimento a scadenza (YTM) usando il metodo di Newton-Raphson.\n",
        "    current_price : Prezzo corrente dell'obbligazione\n",
        "    initial_guess : Valore iniziale per il YTM (default: 0.05)\n",
        "    tol : Tolleranza per la convergenza (default: 1e-6)\n",
        "    max_iter : Numero massimo di iterazioni (default: 100)\n",
        "    \"\"\"\n",
        "    ytm = initial_guess\n",
        "    for _ in range(max_iter):\n",
        "        price = bond_price(C, M, T, ytm)\n",
        "        derivative = bond_price_derivative(C, M, T, ytm)\n",
        "        new_ytm = ytm - (price - current_price) / derivative\n",
        "        if abs(new_ytm - ytm) < tol:\n",
        "            return new_ytm\n",
        "        ytm = new_ytm\n",
        "    raise ValueError(\"Il calcolo del YTM non è convergente\")\n",
        "\n",
        "#P_current = bond_price(C, M, T, ytm)\n",
        "#print('bond price = {:.3f}'.format(P_current))\n",
        "ytm = bond_ytm(C, M, T, P_current)\n",
        "print('################################################################################')\n",
        "print(f'ISIN:{bond.isin} Valuta:{bond.divisa_di_emissione} Maturità in anni:{delta_years} Cedola:{C} Prezzo rimborso:{M} Quotazione:{P_current} Tassazione:{tax}' )\n",
        "print(f\"Yield to Maturity (Gross): {ytm:.4f}\")\n",
        "print(f\"Yield to Maturity (Net): {ytm*(1-tax):.4f}\")\n",
        "\n",
        "# Calcolo della durata Macaulay\n",
        "def macaulay_duration(C, M, T, y):\n",
        "    weighted_sum = sum([t * C / (1 + y)**t for t in range(1, T + 1)]) + T * M / (1 + y)**T\n",
        "    price = bond_price(C, M, T, y)\n",
        "    duration = weighted_sum / price\n",
        "    return duration\n",
        "\n",
        "D = macaulay_duration(C, M, T, ytm)\n",
        "print(f'Macaulay duration: {D:.4f}')\n",
        "D_mod = D / (1 + ytm)\n",
        "print(f'Modified duration: {D_mod:.4f}')\n",
        "\n",
        "# Calcolo della convessità\n",
        "def convexity(C, M, T, y):\n",
        "    convexity_sum = sum([t * (t + 1) * C / (1 + y)**(t + 2) for t in range(1, T + 1)]) + T * (T + 1) * M / (1 + y)**(T + 2)\n",
        "    price = bond_price(C, M, T, y)\n",
        "    convexity = convexity_sum / price\n",
        "    return convexity\n",
        "\n",
        "Convexity = convexity(C, M, T, ytm)\n",
        "print(f'Convexity: {Convexity:.4f}')\n",
        "print('################################################################################')\n",
        "\n",
        "# Calcolo della variazione di prezzo al variare dei tassi di interesse\n",
        "delta_y = np.arange(-0.04, 0.031, 0.0025)  # Variazione dei tassi di interesse, rispetto agli attuali, da -4% a +3%\n",
        "price_changes = -D_mod * delta_y + 0.5 * Convexity * delta_y**2\n",
        "price_variations = P_current * (1 + price_changes)\n",
        "#print(price_variations)\n",
        "## prezzo senza convessità\n",
        "price_var_1 = P_current *(1 + -D_mod * delta_y)\n",
        "#print(price_var_1)\n",
        "\n",
        "# Grafico\n",
        "plt.figure(figsize=(10, 6))\n",
        "plt.plot(delta_y * 100, price_variations, label='Variazione del Prezzo 2° ordine')\n",
        "plt.plot(delta_y * 100, price_var_1, label='Variazione del Prezzo 1° ordine ')\n",
        "plt.axhline(y=P_current, color='r', linestyle='--', label='Prezzo Attuale')\n",
        "plt.xlabel('Variazione del tasso di interesse (%)')\n",
        "plt.ylabel('Prezzo dell\\'obbligazione')\n",
        "plt.title(f'Variazione teorica del prezzo dell\\'obbligazione {bond.isin} al variare dei tassi di interesse')\n",
        "plt.legend()\n",
        "plt.grid(True)\n",
        "plt.show()"
      ],
      "metadata": {
        "colab": {
          "base_uri": "https://localhost:8080/",
          "height": 371
        },
        "id": "Kdp5QJrlr8M-",
        "outputId": "979e3496-1692-4b33-f26e-17903516ebce"
      },
      "execution_count": null,
      "outputs": [
        {
          "output_type": "stream",
          "name": "stdout",
          "text": [
            "################################################################################\n",
            "ISIN:FR0014001NN8 Valuta:EUR Maturità in anni:47.6 Cedola:0.5 Prezzo rimborso:100.0 Quotazione:36.22 Tassazione:0.125\n",
            "Yield to Maturity (Gross): 0.0305\n",
            "Yield to Maturity (Net): 0.0266\n",
            "Macaulay duration: 37.9459\n",
            "Modified duration: 36.8244\n",
            "Convexity: 1628.3336\n",
            "################################################################################\n"
          ]
        },
        {
          "output_type": "display_data",
          "data": {
            "text/plain": [
              "<Figure size 1000x600 with 1 Axes>"
            ],
            "image/png": "[encoded data removed]"
          },
          "metadata": {}
        }
      ]
    }
  ],
  "metadata": {
    "anaconda-cloud": {},
    "kernelspec": {
      "display_name": "Python [default]",
      "language": "python",
      "name": "python3"
    },
    "language_info": {
      "codemirror_mode": {
        "name": "ipython",
        "version": 3
      },
      "file_extension": ".py",
      "mimetype": "text/x-python",
      "name": "python",
      "nbconvert_exporter": "python",
      "pygments_lexer": "ipython3",
      "version": "3.5.1"
    },
    "colab": {
      "provenance": [],
      "include_colab_link": true
    }
  },
  "nbformat": 4,
  "nbformat_minor": 0
}
